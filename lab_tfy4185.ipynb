{
 "cells": [
  {
   "cell_type": "markdown",
   "id": "30af64a1",
   "metadata": {},
   "source": [
    "# Task 1)\n",
    "\n",
    "### Description:\n",
    "\n",
    "\n"
   ]
  }
 ],
 "metadata": {
  "language_info": {
   "name": "python"
  }
 },
 "nbformat": 4,
 "nbformat_minor": 5
}
