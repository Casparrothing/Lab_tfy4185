{
 "cells": [
  {
   "cell_type": "markdown",
   "id": "30af64a1",
   "metadata": {},
   "source": [
    "# Task 1)\n",
    "\n",
    "### Description:\n",
    "\n",
    "Mikrofonen har høy utgangsimpedans og et lite AC-signal som representerer lydtrykket. For å unngå “flytende” DC-nivå legges inngangen til jord via en stor motstand (10 MΩ)\n",
    "\n",
    "Første op-amp er en ikke-inverterende buffer (unity gain). Den gir høy inngangsimpedans (lite last på mikrofonen) og lav utgangsimpedans som trygt kan drive neste trinn.\n",
    "\n",
    "Fordi kretsen går på enkeltforsyning, kan op-ampen ikke håndtere negative spenninger. Vi lager derfor en positiv referanse (Vref ≈ 1.8–2.0 V) med LED+motstand, og lar videre trinn svinge rundt Vref i stedet for 0 V. (I Multisim må LED-parametere justeres for riktig Vref.)\n",
    "\n",
    "Buffer-utgangen AC-kobles via C1 inn til neste trinn. Sammen med R1 danner C1–R1 et høypassfilter, der knekkfrekvensen er < 16 Hz.\n",
    "\n",
    "Andre op-amp er inverterende og biases på ikke-inverterende inngang med Vref\n",
    "\n",
    "Hele kretsen:\n",
    "mikrofon → buffer (impedansetilpasning) → AC-kobling (C1) → høypass (R1–C1) → inverterende forsterker med DC-offset (Vref) → ut ca. 1–2 V_pp\n",
    "\n"
   ]
  },
  {
   "cell_type": "markdown",
   "id": "3258537f",
   "metadata": {},
   "source": []
  }
 ],
 "metadata": {
  "language_info": {
   "name": "python"
  }
 },
 "nbformat": 4,
 "nbformat_minor": 5
}
